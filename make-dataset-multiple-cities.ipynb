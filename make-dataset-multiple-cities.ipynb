{
 "cells": [
  {
   "cell_type": "code",
   "execution_count": 2,
   "metadata": {},
   "outputs": [],
   "source": [
    "%load_ext autoreload\n",
    "%autoreload 2\n",
    "# %autoawait asyncio"
   ]
  },
  {
   "cell_type": "markdown",
   "metadata": {},
   "source": [
    "# Download 17-18.05.21"
   ]
  },
  {
   "cell_type": "code",
   "execution_count": 3,
   "metadata": {},
   "outputs": [],
   "source": [
    "from src.data.download import download_whole_city\n",
    "from src.settings import DATA_RAW_DIR\n",
    "from tqdm import tqdm"
   ]
  },
  {
   "cell_type": "code",
   "execution_count": 4,
   "metadata": {},
   "outputs": [],
   "source": [
    "RESOLUTION = 9"
   ]
  },
  {
   "cell_type": "code",
   "execution_count": 5,
   "metadata": {},
   "outputs": [],
   "source": [
    "cities = [\n",
    "    # \"Vienna, Austria\",\n",
    "    # \"Minsk, Belarus\",\n",
    "    # \"Brussels, Belgium\",\n",
    "    # \"Sofia, Bulgaria\",\n",
    "    # \"Zagreb, Croatia\",\n",
    "    # \"Prague, Czech Republic\",\n",
    "    # \"Tallinn, Estonia\",\n",
    "    # \"Helsinki, Finland\",\n",
    "    # \"Paris, France\",\n",
    "    \"Berlin, Germany\",\n",
    "    \"Reykjavík, Iceland\",\n",
    "    \"Dublin, Ireland\",\n",
    "    \"Rome, Italy\",\n",
    "    \"Nur-Sultan, Kazakhstan\",\n",
    "    \"Latvia, Riga\",\n",
    "    \"Vilnius, Lithuania\",\n",
    "    \"Luxembourg City, Luxembourg\",\n",
    "    \"Amsterdam, Netherlands\",\n",
    "    \"Oslo, Norway\",\n",
    "    \"Warszawa, PL\",\n",
    "    \"Kraków, PL\",\n",
    "    \"Łódź, PL\",\n",
    "    \"Wrocław, PL\",\n",
    "    \"Poznań, PL\",\n",
    "    \"Gdańsk, PL\",\n",
    "    \"Lisbon, Portugal\",\n",
    "    \"Moscow, Russia\",\n",
    "    \"Belgrade, Serbia\",\n",
    "    \"Bratislava, Slovakia\",\n",
    "    \"Ljubljana, Slovenia\",\n",
    "    \"Madrid, Spain\",\n",
    "    \"Stockholm, Sweden\",\n",
    "    \"Bern, Switzerland\",\n",
    "    \"London, United Kingdom\",\n",
    "    \"New York City, USA\",\n",
    "    \"Chicago, USA\",\n",
    "    \"San Francisco, USA\",\n",
    "]"
   ]
  },
  {
   "cell_type": "code",
   "execution_count": 6,
   "metadata": {},
   "outputs": [
    {
     "name": "stderr",
     "output_type": "stream",
     "text": [
      "100%|██████████| 28/28 [00:00<00:00, 165176.53it/s]\n"
     ]
    },
    {
     "name": "stdout",
     "output_type": "stream",
     "text": [
      "Berlin, Germany\n"
     ]
    },
    {
     "name": "stderr",
     "output_type": "stream",
     "text": [
      "  0%|          | 0/29 [00:00<?, ?it/s]"
     ]
    },
    {
     "name": "stdout",
     "output_type": "stream",
     "text": [
      "Tag: aerialway exists for city: Berlin, Germany\n",
      "Tag: aeroway exists for city: Berlin, Germany\n",
      "Tag: amenity exists for city: Berlin, Germany\n",
      "Tag: barrier exists for city: Berlin, Germany\n",
      "Tag: boundary exists for city: Berlin, Germany\n"
     ]
    },
    {
     "ename": "",
     "evalue": "",
     "output_type": "error",
     "traceback": [
      "\u001b[1;31mCanceled future for execute_request message before replies were done"
     ]
    },
    {
     "ename": "",
     "evalue": "",
     "output_type": "error",
     "traceback": [
      "\u001b[1;31mThe Kernel crashed while executing code in the the current cell or a previous cell. Please review the code in the cell(s) to identify a possible cause of the failure. Click <a href='https://aka.ms/vscodeJupyterKernelCrash'>here</a> for more info. View Jupyter <a href='command:jupyter.viewOutput'>log</a> for further details."
     ]
    }
   ],
   "source": [
    "# run download whole city in 4 threads\n",
    "from threading import Thread\n",
    "from queue import Queue\n",
    "\n",
    "def worker(q):\n",
    "    while True:\n",
    "        item = q.get()\n",
    "        download_whole_city(item, DATA_RAW_DIR)\n",
    "        q.task_done()\n",
    "\n",
    "q = Queue()\n",
    "ts = []\n",
    "for i in range(1):\n",
    "    t = Thread(target=worker, args=(q,))\n",
    "    t.daemon = True\n",
    "    t.start()\n",
    "    ts.append(t)\n",
    "\n",
    "for city in tqdm(cities):\n",
    "    q.put(city)\n",
    "\n",
    "for t in ts:\n",
    "    t.join()"
   ]
  },
  {
   "cell_type": "code",
   "execution_count": 9,
   "metadata": {},
   "outputs": [
    {
     "name": "stderr",
     "output_type": "stream",
     "text": [
      "\n",
      "\n",
      "\n",
      "\n",
      "\n",
      "\n",
      "\u001b[A\u001b[A\u001b[A\u001b[A\u001b[A\u001b[A"
     ]
    }
   ],
   "source": [
    "while q.qsize() > 0:\n",
    "    pass"
   ]
  },
  {
   "cell_type": "markdown",
   "metadata": {},
   "source": [
    "# Process dataset, select tags, add h3 indices of selected resolution"
   ]
  },
  {
   "cell_type": "markdown",
   "metadata": {},
   "source": [
    "## Append h3 indices of selected resolution"
   ]
  },
  {
   "cell_type": "code",
   "execution_count": null,
   "metadata": {},
   "outputs": [],
   "source": [
    "from src.data.make_dataset import add_h3_indices_to_city"
   ]
  },
  {
   "cell_type": "code",
   "execution_count": null,
   "metadata": {},
   "outputs": [],
   "source": [
    "for city in tqdm(cities):\n",
    "    add_h3_indices_to_city(city, 8)"
   ]
  },
  {
   "cell_type": "markdown",
   "metadata": {},
   "source": [
    "## Group selected tags in cities"
   ]
  },
  {
   "cell_type": "code",
   "execution_count": null,
   "metadata": {},
   "outputs": [],
   "source": [
    "from src.data.load_data import load_filter\n",
    "from src.data.make_dataset import group_city_tags"
   ]
  },
  {
   "cell_type": "code",
   "execution_count": null,
   "metadata": {},
   "outputs": [],
   "source": [
    "cities = [\n",
    "    \"Vienna, Austria\",\n",
    "    \"Minsk, Belarus\",\n",
    "    \"Brussels, Belgium\",\n",
    "    \"Sofia, Bulgaria\",\n",
    "    \"Zagreb, Croatia\",\n",
    "    \"Prague, Czech Republic\",\n",
    "    \"Tallinn, Estonia\",\n",
    "    \"Helsinki, Finland\",\n",
    "    \"Paris, France\",\n",
    "    \"Berlin, Germany\",\n",
    "    \"Reykjavík, Iceland\",\n",
    "    \"Dublin, Ireland\",\n",
    "    \"Rome, Italy\",\n",
    "    \"Nur-Sultan, Kazakhstan\",\n",
    "    \"Latvia, Riga\",\n",
    "    \"Vilnius, Lithuania\",\n",
    "    \"Luxembourg City, Luxembourg\",\n",
    "    \"Amsterdam, Netherlands\",\n",
    "    \"Oslo, Norway\",\n",
    "    \"Warszawa, PL\",\n",
    "    \"Kraków, PL\",\n",
    "    \"Łódź, PL\",\n",
    "    \"Wrocław, PL\",\n",
    "    \"Poznań, PL\",\n",
    "    \"Gdańsk, PL\",\n",
    "    \"Lisbon, Portugal\",\n",
    "    \"Moscow, Russia\",\n",
    "    \"Belgrade, Serbia\",\n",
    "    \"Bratislava, Slovakia\",\n",
    "    \"Ljubljana, Slovenia\",\n",
    "    \"Madrid, Spain\",\n",
    "    \"Stockholm, Sweden\",\n",
    "    \"Bern, Switzerland\",\n",
    "    \"London, United Kingdom\",\n",
    "    \"New York City, USA\",\n",
    "    \"Chicago, USA\",\n",
    "    \"San Francisco, USA\",\n",
    "]"
   ]
  },
  {
   "cell_type": "code",
   "execution_count": null,
   "metadata": {},
   "outputs": [],
   "source": [
    "SELECTED_TAGS = [\n",
    "    \"aeroway\",\n",
    "    \"amenity\",\n",
    "    \"building\",\n",
    "    \"healthcare\",\n",
    "    \"historic\",\n",
    "    \"landuse\",\n",
    "    \"leisure\",\n",
    "    \"military\",\n",
    "    \"natural\",\n",
    "    \"office\",\n",
    "    \"shop\",\n",
    "    \"sport\",\n",
    "    \"tourism\",\n",
    "    \"water\",\n",
    "    \"waterway\",\n",
    "]"
   ]
  },
  {
   "cell_type": "code",
   "execution_count": null,
   "metadata": {},
   "outputs": [],
   "source": [
    "key_values_to_drop = {\n",
    "    \"natural\": [\n",
    "        \"tree\",\n",
    "        \"tree_row\",\n",
    "        \"valley\",\n",
    "        'scrub',\n",
    "        'heath',\n",
    "        'moor',\n",
    "        'grassland',\n",
    "        'fell',\n",
    "        'bare_rock',\n",
    "        'scree',\n",
    "        'shingle',\n",
    "        'sand',\n",
    "        'wetland',\n",
    "        'glacier',\n",
    "        'reef',\n",
    "        'spring',\n",
    "        'hot_spring',\n",
    "        'geyser',\n",
    "        'peak',\n",
    "        'volcano',\n",
    "        'peninsula',\n",
    "        'isthmus',\n",
    "        'ridge',\n",
    "        'arete',\n",
    "        'cliff',\n",
    "        'saddle',\n",
    "        'dune',\n",
    "        'rock',\n",
    "        'stone',\n",
    "        'sinkhole',\n",
    "        'cave_entrance',\n",
    "    ],\n",
    "    \"amenity\": [\n",
    "        'bench',\n",
    "        'grit_bin',\n",
    "        'parking_space',\n",
    "        'post_box',\n",
    "        'sanitary_dump_station',\n",
    "        'recycling',\n",
    "        'waste_basket',\n",
    "        'waste_disposal',\n",
    "        'waste_transfer_station',\n",
    "    ],\n",
    "    \"landuse\": [\n",
    "        \"grass\"\n",
    "    ]\n",
    "}"
   ]
  },
  {
   "cell_type": "code",
   "execution_count": null,
   "metadata": {},
   "outputs": [],
   "source": [
    "TAG_FILTER = load_filter(\"from_wiki.json\")"
   ]
  },
  {
   "cell_type": "code",
   "execution_count": null,
   "metadata": {},
   "outputs": [],
   "source": [
    "for city in tqdm(cities):\n",
    "    group_city_tags(city, 8, filter_values=TAG_FILTER, fill_missing=True)"
   ]
  },
  {
   "cell_type": "markdown",
   "metadata": {},
   "source": [
    "# Group all cities"
   ]
  },
  {
   "cell_type": "code",
   "execution_count": null,
   "metadata": {},
   "outputs": [],
   "source": [
    "from src.data.make_dataset import group_cities\n",
    "\n",
    "df = group_cities(cities, RESOLUTION)\n"
   ]
  },
  {
   "cell_type": "code",
   "execution_count": null,
   "metadata": {},
   "outputs": [],
   "source": [
    "df['city'].value_counts()"
   ]
  },
  {
   "cell_type": "code",
   "execution_count": null,
   "metadata": {},
   "outputs": [],
   "source": [
    "from keplergl import KeplerGl\n",
    "KeplerGl(data={\"cities\": df})"
   ]
  },
  {
   "cell_type": "code",
   "execution_count": null,
   "metadata": {},
   "outputs": [],
   "source": [
    "city_buildings = df[['city', *[c for c in df.columns if c.startswith(\"building\")]]].groupby(['city']).sum()"
   ]
  },
  {
   "cell_type": "code",
   "execution_count": null,
   "metadata": {},
   "outputs": [],
   "source": [
    "city_buildings.reset_index().set_index('city')"
   ]
  },
  {
   "cell_type": "code",
   "execution_count": null,
   "metadata": {},
   "outputs": [],
   "source": [
    "city_buildings_percent = city_buildings.div(city_buildings.sum(axis=1), axis=0).reset_index()\n",
    "city_buildings_percent"
   ]
  },
  {
   "cell_type": "code",
   "execution_count": null,
   "metadata": {},
   "outputs": [],
   "source": [
    "melted = city_buildings_percent.melt(id_vars = 'city').sort_values(by=['city', 'value'], ascending=[True, False])\n",
    "melted"
   ]
  },
  {
   "cell_type": "code",
   "execution_count": null,
   "metadata": {},
   "outputs": [],
   "source": [
    "melted[melted['variable'] == 'building_yes']"
   ]
  },
  {
   "cell_type": "code",
   "execution_count": null,
   "metadata": {},
   "outputs": [],
   "source": [
    "szczecin = df[df['city']=='Szczecin, PL'][['h3', *[c for c in df.columns if c.startswith('building')]]]\n",
    "KeplerGl(data={'szczecin': szczecin})"
   ]
  },
  {
   "cell_type": "code",
   "execution_count": null,
   "metadata": {},
   "outputs": [],
   "source": [
    "szczecin.drop(columns='h3', ).melt().sort_values('value', ascending=False)"
   ]
  }
 ],
 "metadata": {
  "kernelspec": {
   "display_name": "base",
   "language": "python",
   "name": "python3"
  },
  "language_info": {
   "codemirror_mode": {
    "name": "ipython",
    "version": 3
   },
   "file_extension": ".py",
   "mimetype": "text/x-python",
   "name": "python",
   "nbconvert_exporter": "python",
   "pygments_lexer": "ipython3",
   "version": "3.8.13"
  },
  "metadata": {
   "interpreter": {
    "hash": "82e518efe277ee5a00982e862e28e1995e74f636b5cf3678ef966f3fbeb51464"
   }
  },
  "orig_nbformat": 2,
  "vscode": {
   "interpreter": {
    "hash": "e234d837eebba94c7397b4e38c0b82bd3e4741cb2c390182a3fb441eaf8f3cd5"
   }
  }
 },
 "nbformat": 4,
 "nbformat_minor": 2
}
