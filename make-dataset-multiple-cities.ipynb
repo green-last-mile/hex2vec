{
 "cells": [
  {
   "cell_type": "code",
   "execution_count": 1,
   "metadata": {},
   "outputs": [],
   "source": [
    "%load_ext autoreload\n",
    "%autoreload 2\n",
    "# %autoawait asyncio"
   ]
  },
  {
   "attachments": {},
   "cell_type": "markdown",
   "metadata": {},
   "source": [
    "# Download "
   ]
  },
  {
   "cell_type": "code",
   "execution_count": 2,
   "metadata": {},
   "outputs": [],
   "source": [
    "from src.data.download import download_whole_city\n",
    "from src.settings import DATA_RAW_DIR\n",
    "from tqdm import tqdm"
   ]
  },
  {
   "cell_type": "code",
   "execution_count": 3,
   "metadata": {},
   "outputs": [],
   "source": [
    "RESOLUTION = 9"
   ]
  },
  {
   "cell_type": "code",
   "execution_count": 4,
   "metadata": {},
   "outputs": [],
   "source": [
    "cities = [\n",
    "    # \"Vienna, Austria\",  # I had to remove vienna austria as someone removed the city boundary from OSM\n",
    "    \"Minsk, Belarus\",\n",
    "    \"Brussels, Belgium\",\n",
    "    \"Sofia, Bulgaria\",\n",
    "    \"Zagreb, Croatia\",\n",
    "    \"Prague, Czech Republic\",\n",
    "    \"Tallinn, Estonia\",\n",
    "    \"Helsinki, Finland\",\n",
    "    \"Paris, France\",\n",
    "    \"Berlin, Germany\",\n",
    "    \"Reykjavík, Iceland\",\n",
    "    \"Dublin, Ireland\",\n",
    "    \"Rome, Italy\",\n",
    "    \"Nur-Sultan, Kazakhstan\",\n",
    "    \"Latvia, Riga\",\n",
    "    \"Vilnius, Lithuania\",\n",
    "    \"Luxembourg City, Luxembourg\",\n",
    "    \"Amsterdam, Netherlands\",\n",
    "    \"Oslo, Norway\",\n",
    "    \"Warszawa, PL\",\n",
    "    \"Kraków, PL\",\n",
    "    \"Łódź, PL\",\n",
    "    \"Wrocław, PL\",\n",
    "    \"Poznań, PL\",\n",
    "    \"Gdańsk, PL\",\n",
    "    \"Lisbon, Portugal\",\n",
    "    ['Moscow, Russia', 'Zelenogradsky Administrative Okrug', 'Western Administrative Okrug', 'Novomoskovsky Administrative Okrug', 'Troitsky Administrative Okrug'],\n",
    "    \"Belgrade, Serbia\",\n",
    "    \"Bratislava, Slovakia\",\n",
    "    \"Ljubljana, Slovenia\",\n",
    "    \"Madrid, Spain\",\n",
    "    \"Stockholm, Sweden\",\n",
    "    \"Bern, Switzerland\",\n",
    "    [\"London, United Kingdom\", \"City of London\"],\n",
    "    \"New York City, USA\",\n",
    "    \"Chicago, USA\",\n",
    "    \"San Francisco, USA\",\n",
    "]"
   ]
  },
  {
   "cell_type": "code",
   "execution_count": 1,
   "metadata": {},
   "outputs": [],
   "source": [
    "for city in tqdm(cities):\n",
    "    download_whole_city(city, DATA_RAW_DIR)"
   ]
  },
  {
   "cell_type": "markdown",
   "metadata": {},
   "source": [
    "# Process dataset, select tags, add h3 indices of selected resolution"
   ]
  },
  {
   "cell_type": "markdown",
   "metadata": {},
   "source": [
    "## Append h3 indices of selected resolution"
   ]
  },
  {
   "attachments": {},
   "cell_type": "markdown",
   "metadata": {},
   "source": [
    "### Load the Filter (only process what we need)"
   ]
  },
  {
   "cell_type": "code",
   "execution_count": null,
   "metadata": {},
   "outputs": [],
   "source": [
    "# remove tags not of interest\n",
    "SELECTED_TAGS = [\n",
    "    \"aeroway\",\n",
    "    \"amenity\",\n",
    "    \"building\",\n",
    "    \"healthcare\",\n",
    "    \"historic\",\n",
    "    \"landuse\",\n",
    "    \"leisure\",\n",
    "    \"military\",\n",
    "    \"natural\",\n",
    "    \"office\",\n",
    "    \"shop\",\n",
    "    \"sport\",\n",
    "    \"tourism\",\n",
    "    \"water\",\n",
    "    \"waterway\",\n",
    "]\n",
    "\n",
    "problem_columns = [\n",
    "    'amenity_waste_basket',\n",
    "    'landuse_grass',\n",
    "    'historic_tomb',\n",
    "    'natural_tree',\n",
    "    'natural_tree_row',\n",
    "    'natural_valley', # northern Warsaw\n",
    "]\n"
   ]
  },
  {
   "cell_type": "code",
   "execution_count": null,
   "metadata": {},
   "outputs": [],
   "source": [
    "from src.data.load_data import load_filter\n",
    "TAG_FILTER = load_filter(\"from_wiki.json\")\n",
    "\n",
    "# remove tags that are not in SELECTED TAGS\n",
    "TAG_FILTER = {\n",
    "    k: v for k,v in TAG_FILTER.values() if k in SELECTED_TAGS\n",
    "} \n",
    "\n",
    "# remove the problem columns\n",
    "for tag in problem_columns:\n",
    "    super_tag, *sub_tag = tag.split(\"_\")\n",
    "    if isinstance(sub_tag, (list, tuple)):\n",
    "        sub_tag = \"_\".join(sub_tag)\n",
    "    TAG_FILTER[super_tag] = [\n",
    "        tag for tag in TAG_FILTER[super_tag] if tag != sub_tag\n",
    "    ]"
   ]
  },
  {
   "attachments": {},
   "cell_type": "markdown",
   "metadata": {},
   "source": [
    "### Update the City List to Only Include Strings"
   ]
  },
  {
   "cell_type": "code",
   "execution_count": 3,
   "metadata": {},
   "outputs": [],
   "source": [
    "# update the cities list to only include strings\n",
    "cities = [city[0] if isinstance(city, (list, tuple)) else city for city in cities]"
   ]
  },
  {
   "attachments": {},
   "cell_type": "markdown",
   "metadata": {},
   "source": [
    "### Map OSM objects to their Hexagons"
   ]
  },
  {
   "cell_type": "code",
   "execution_count": null,
   "metadata": {},
   "outputs": [],
   "source": [
    "from src.data.make_dataset import add_h3_indices_to_city"
   ]
  },
  {
   "cell_type": "code",
   "execution_count": null,
   "metadata": {},
   "outputs": [],
   "source": [
    "for city in tqdm(cities):\n",
    "    add_h3_indices_to_city(city, RESOLUTION, filter_values=TAG_FILTER)"
   ]
  },
  {
   "cell_type": "markdown",
   "metadata": {},
   "source": [
    "## Group selected tags in cities"
   ]
  },
  {
   "cell_type": "code",
   "execution_count": null,
   "metadata": {},
   "outputs": [],
   "source": [
    "from src.data.make_dataset import group_city_tags"
   ]
  },
  {
   "cell_type": "code",
   "execution_count": null,
   "metadata": {},
   "outputs": [],
   "source": [
    "for city in tqdm(cities):\n",
    "    group_city_tags(city, RESOLUTION, tags=list(TAG_FILTER.keys()), filter_values=TAG_FILTER, fill_missing=True)\n",
    "    "
   ]
  },
  {
   "cell_type": "markdown",
   "metadata": {},
   "source": [
    "# Group all cities"
   ]
  },
  {
   "attachments": {},
   "cell_type": "markdown",
   "metadata": {},
   "source": [
    "This saves a file named `9.feather` to the `DATA_PROCESSED_DIR`"
   ]
  },
  {
   "cell_type": "code",
   "execution_count": null,
   "metadata": {},
   "outputs": [],
   "source": [
    "from src.data.make_dataset import group_cities\n",
    "\n",
    "df = group_cities(\n",
    "    cities=cities,\n",
    "    resolution=RESOLUTION,\n",
    "    add_city_column=True,\n",
    ")\n",
    "\n"
   ]
  }
 ],
 "metadata": {
  "kernelspec": {
   "display_name": "base",
   "language": "python",
   "name": "python3"
  },
  "language_info": {
   "codemirror_mode": {
    "name": "ipython",
    "version": 3
   },
   "file_extension": ".py",
   "mimetype": "text/x-python",
   "name": "python",
   "nbconvert_exporter": "python",
   "pygments_lexer": "ipython3",
   "version": "3.8.15"
  },
  "metadata": {
   "interpreter": {
    "hash": "82e518efe277ee5a00982e862e28e1995e74f636b5cf3678ef966f3fbeb51464"
   }
  },
  "orig_nbformat": 2,
  "vscode": {
   "interpreter": {
    "hash": "e234d837eebba94c7397b4e38c0b82bd3e4741cb2c390182a3fb441eaf8f3cd5"
   }
  }
 },
 "nbformat": 4,
 "nbformat_minor": 2
}
